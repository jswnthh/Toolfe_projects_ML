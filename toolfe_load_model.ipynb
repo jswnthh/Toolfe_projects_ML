{
 "cells": [
  {
   "cell_type": "code",
   "execution_count": 74,
   "id": "43e12cc4",
   "metadata": {},
   "outputs": [],
   "source": [
    "# Data Manipulation and Analysis\n",
    "import numpy as np\n",
    "import pandas as pd\n",
    "\n",
    "# Timing and Performance Measurement\n",
    "from timeit import default_timer as timer\n",
    "import time\n",
    "\n",
    "# Data Manipulation and Preprocessing\n",
    "from sklearn.model_selection import train_test_split\n",
    "from sklearn.utils import resample, shuffle\n",
    "from sklearn.decomposition import PCA, TruncatedSVD\n",
    "from sklearn.feature_selection import RFE, RFECV, mutual_info_classif\n",
    "from sklearn.preprocessing import StandardScaler, MinMaxScaler\n",
    "\n",
    "\n",
    "# Models and Algorithms\n",
    "from sklearn.manifold import TSNE\n",
    "from sklearn.svm import SVR, SVC\n",
    "from sklearn.linear_model import LogisticRegression\n",
    "from sklearn.ensemble import RandomForestClassifier, GradientBoostingClassifier\n",
    "from sklearn.model_selection import GridSearchCV, KFold, StratifiedKFold\n",
    "import xgboost as XGBClassifier\n",
    "from xgboost import XGBRegressor\n",
    "\n",
    "# Evaluation Metrics\n",
    "from sklearn.metrics import confusion_matrix, accuracy_score, precision_score, recall_score, f1_score, roc_auc_score, roc_curve, classification_report, precision_recall_curve, make_scorer\n",
    "\n",
    "# Visualization\n",
    "import matplotlib.pyplot as plt\n",
    "import seaborn as sns\n",
    "%matplotlib inline\n",
    "\n",
    "# Imbalanced Data Handling\n",
    "from imblearn.pipeline import Pipeline, make_pipeline\n",
    "from imblearn.over_sampling import SVMSMOTE, SMOTE, ADASYN\n",
    "\n",
    "#warnings\n",
    "import warnings\n",
    "warnings.filterwarnings('ignore')"
   ]
  },
  {
   "cell_type": "markdown",
   "id": "2e68aba2",
   "metadata": {},
   "source": [
    "# Some Feature Engineering"
   ]
  },
  {
   "cell_type": "code",
   "execution_count": 2,
   "id": "350f2b61",
   "metadata": {},
   "outputs": [],
   "source": [
    "df = pd.read_csv(\"loan_model.csv\")"
   ]
  },
  {
   "cell_type": "code",
   "execution_count": 3,
   "id": "bcb6993c",
   "metadata": {},
   "outputs": [
    {
     "data": {
      "text/html": [
       "<div>\n",
       "<style scoped>\n",
       "    .dataframe tbody tr th:only-of-type {\n",
       "        vertical-align: middle;\n",
       "    }\n",
       "\n",
       "    .dataframe tbody tr th {\n",
       "        vertical-align: top;\n",
       "    }\n",
       "\n",
       "    .dataframe thead th {\n",
       "        text-align: right;\n",
       "    }\n",
       "</style>\n",
       "<table border=\"1\" class=\"dataframe\">\n",
       "  <thead>\n",
       "    <tr style=\"text-align: right;\">\n",
       "      <th></th>\n",
       "      <th>Credit_Policy</th>\n",
       "      <th>Purpose</th>\n",
       "      <th>Interest_Rate</th>\n",
       "      <th>Installment</th>\n",
       "      <th>Log_Annual_Income</th>\n",
       "      <th>Debt_Income_Ratio</th>\n",
       "      <th>FICO</th>\n",
       "      <th>Days_with_Credit_Line</th>\n",
       "      <th>Revolving_Balance</th>\n",
       "      <th>Revolving_Utilization</th>\n",
       "      <th>Inquiries_Last_6_Months</th>\n",
       "      <th>Delinquencies_in_2_Years</th>\n",
       "      <th>Public_Records</th>\n",
       "      <th>Not_Fully_Paid</th>\n",
       "      <th>Interest_Rate_Bin</th>\n",
       "      <th>Installment_Interact</th>\n",
       "      <th>Revolving_Utilization_Binned</th>\n",
       "    </tr>\n",
       "  </thead>\n",
       "  <tbody>\n",
       "    <tr>\n",
       "      <th>0</th>\n",
       "      <td>1</td>\n",
       "      <td>debt_consolidation</td>\n",
       "      <td>0.1189</td>\n",
       "      <td>829.10</td>\n",
       "      <td>11.350407</td>\n",
       "      <td>19.48</td>\n",
       "      <td>737</td>\n",
       "      <td>5639.958333</td>\n",
       "      <td>28854</td>\n",
       "      <td>52.10</td>\n",
       "      <td>0</td>\n",
       "      <td>0</td>\n",
       "      <td>0</td>\n",
       "      <td>0</td>\n",
       "      <td>1</td>\n",
       "      <td>98.579990</td>\n",
       "      <td>1</td>\n",
       "    </tr>\n",
       "    <tr>\n",
       "      <th>1</th>\n",
       "      <td>1</td>\n",
       "      <td>debt_consolidation</td>\n",
       "      <td>0.1299</td>\n",
       "      <td>370.59</td>\n",
       "      <td>10.868568</td>\n",
       "      <td>17.94</td>\n",
       "      <td>667</td>\n",
       "      <td>3269.000000</td>\n",
       "      <td>17771</td>\n",
       "      <td>52.10</td>\n",
       "      <td>2</td>\n",
       "      <td>0</td>\n",
       "      <td>0</td>\n",
       "      <td>1</td>\n",
       "      <td>1</td>\n",
       "      <td>48.139641</td>\n",
       "      <td>1</td>\n",
       "    </tr>\n",
       "    <tr>\n",
       "      <th>2</th>\n",
       "      <td>1</td>\n",
       "      <td>all_other</td>\n",
       "      <td>0.1166</td>\n",
       "      <td>198.32</td>\n",
       "      <td>11.112448</td>\n",
       "      <td>7.07</td>\n",
       "      <td>677</td>\n",
       "      <td>6060.000000</td>\n",
       "      <td>8224</td>\n",
       "      <td>52.10</td>\n",
       "      <td>0</td>\n",
       "      <td>0</td>\n",
       "      <td>0</td>\n",
       "      <td>0</td>\n",
       "      <td>1</td>\n",
       "      <td>23.124112</td>\n",
       "      <td>1</td>\n",
       "    </tr>\n",
       "    <tr>\n",
       "      <th>3</th>\n",
       "      <td>1</td>\n",
       "      <td>credit_card</td>\n",
       "      <td>0.1189</td>\n",
       "      <td>169.14</td>\n",
       "      <td>10.239960</td>\n",
       "      <td>16.11</td>\n",
       "      <td>697</td>\n",
       "      <td>4080.000000</td>\n",
       "      <td>20722</td>\n",
       "      <td>52.10</td>\n",
       "      <td>2</td>\n",
       "      <td>0</td>\n",
       "      <td>0</td>\n",
       "      <td>0</td>\n",
       "      <td>1</td>\n",
       "      <td>20.110746</td>\n",
       "      <td>1</td>\n",
       "    </tr>\n",
       "    <tr>\n",
       "      <th>4</th>\n",
       "      <td>1</td>\n",
       "      <td>all_other</td>\n",
       "      <td>0.1189</td>\n",
       "      <td>66.33</td>\n",
       "      <td>9.392662</td>\n",
       "      <td>5.70</td>\n",
       "      <td>707</td>\n",
       "      <td>2970.000000</td>\n",
       "      <td>1616</td>\n",
       "      <td>52.10</td>\n",
       "      <td>1</td>\n",
       "      <td>0</td>\n",
       "      <td>0</td>\n",
       "      <td>0</td>\n",
       "      <td>1</td>\n",
       "      <td>7.886637</td>\n",
       "      <td>1</td>\n",
       "    </tr>\n",
       "    <tr>\n",
       "      <th>...</th>\n",
       "      <td>...</td>\n",
       "      <td>...</td>\n",
       "      <td>...</td>\n",
       "      <td>...</td>\n",
       "      <td>...</td>\n",
       "      <td>...</td>\n",
       "      <td>...</td>\n",
       "      <td>...</td>\n",
       "      <td>...</td>\n",
       "      <td>...</td>\n",
       "      <td>...</td>\n",
       "      <td>...</td>\n",
       "      <td>...</td>\n",
       "      <td>...</td>\n",
       "      <td>...</td>\n",
       "      <td>...</td>\n",
       "      <td>...</td>\n",
       "    </tr>\n",
       "    <tr>\n",
       "      <th>9573</th>\n",
       "      <td>0</td>\n",
       "      <td>all_other</td>\n",
       "      <td>0.1324</td>\n",
       "      <td>104.81</td>\n",
       "      <td>10.714418</td>\n",
       "      <td>12.00</td>\n",
       "      <td>657</td>\n",
       "      <td>8940.000000</td>\n",
       "      <td>2829</td>\n",
       "      <td>108.80</td>\n",
       "      <td>0</td>\n",
       "      <td>0</td>\n",
       "      <td>0</td>\n",
       "      <td>0</td>\n",
       "      <td>1</td>\n",
       "      <td>13.876844</td>\n",
       "      <td>2</td>\n",
       "    </tr>\n",
       "    <tr>\n",
       "      <th>9574</th>\n",
       "      <td>0</td>\n",
       "      <td>all_other</td>\n",
       "      <td>0.1103</td>\n",
       "      <td>98.26</td>\n",
       "      <td>10.596635</td>\n",
       "      <td>3.09</td>\n",
       "      <td>677</td>\n",
       "      <td>1291.958333</td>\n",
       "      <td>3127</td>\n",
       "      <td>104.20</td>\n",
       "      <td>0</td>\n",
       "      <td>0</td>\n",
       "      <td>0</td>\n",
       "      <td>0</td>\n",
       "      <td>0</td>\n",
       "      <td>10.838078</td>\n",
       "      <td>2</td>\n",
       "    </tr>\n",
       "    <tr>\n",
       "      <th>9575</th>\n",
       "      <td>0</td>\n",
       "      <td>debt_consolidation</td>\n",
       "      <td>0.1166</td>\n",
       "      <td>181.79</td>\n",
       "      <td>9.903688</td>\n",
       "      <td>9.90</td>\n",
       "      <td>677</td>\n",
       "      <td>1471.000000</td>\n",
       "      <td>5111</td>\n",
       "      <td>104.30</td>\n",
       "      <td>4</td>\n",
       "      <td>0</td>\n",
       "      <td>0</td>\n",
       "      <td>0</td>\n",
       "      <td>1</td>\n",
       "      <td>21.196714</td>\n",
       "      <td>2</td>\n",
       "    </tr>\n",
       "    <tr>\n",
       "      <th>9576</th>\n",
       "      <td>0</td>\n",
       "      <td>credit_card</td>\n",
       "      <td>0.1222</td>\n",
       "      <td>249.90</td>\n",
       "      <td>11.097410</td>\n",
       "      <td>12.11</td>\n",
       "      <td>677</td>\n",
       "      <td>5070.000000</td>\n",
       "      <td>5319</td>\n",
       "      <td>106.40</td>\n",
       "      <td>0</td>\n",
       "      <td>0</td>\n",
       "      <td>0</td>\n",
       "      <td>0</td>\n",
       "      <td>1</td>\n",
       "      <td>30.537780</td>\n",
       "      <td>2</td>\n",
       "    </tr>\n",
       "    <tr>\n",
       "      <th>9577</th>\n",
       "      <td>0</td>\n",
       "      <td>all_other</td>\n",
       "      <td>0.1253</td>\n",
       "      <td>167.34</td>\n",
       "      <td>11.877569</td>\n",
       "      <td>8.50</td>\n",
       "      <td>702</td>\n",
       "      <td>3780.041667</td>\n",
       "      <td>172842</td>\n",
       "      <td>69.14</td>\n",
       "      <td>2</td>\n",
       "      <td>1</td>\n",
       "      <td>0</td>\n",
       "      <td>0</td>\n",
       "      <td>1</td>\n",
       "      <td>20.967702</td>\n",
       "      <td>1</td>\n",
       "    </tr>\n",
       "  </tbody>\n",
       "</table>\n",
       "<p>9578 rows × 17 columns</p>\n",
       "</div>"
      ],
      "text/plain": [
       "      Credit_Policy             Purpose  Interest_Rate  Installment  \\\n",
       "0                 1  debt_consolidation         0.1189       829.10   \n",
       "1                 1  debt_consolidation         0.1299       370.59   \n",
       "2                 1           all_other         0.1166       198.32   \n",
       "3                 1         credit_card         0.1189       169.14   \n",
       "4                 1           all_other         0.1189        66.33   \n",
       "...             ...                 ...            ...          ...   \n",
       "9573              0           all_other         0.1324       104.81   \n",
       "9574              0           all_other         0.1103        98.26   \n",
       "9575              0  debt_consolidation         0.1166       181.79   \n",
       "9576              0         credit_card         0.1222       249.90   \n",
       "9577              0           all_other         0.1253       167.34   \n",
       "\n",
       "      Log_Annual_Income  Debt_Income_Ratio  FICO  Days_with_Credit_Line  \\\n",
       "0             11.350407              19.48   737            5639.958333   \n",
       "1             10.868568              17.94   667            3269.000000   \n",
       "2             11.112448               7.07   677            6060.000000   \n",
       "3             10.239960              16.11   697            4080.000000   \n",
       "4              9.392662               5.70   707            2970.000000   \n",
       "...                 ...                ...   ...                    ...   \n",
       "9573          10.714418              12.00   657            8940.000000   \n",
       "9574          10.596635               3.09   677            1291.958333   \n",
       "9575           9.903688               9.90   677            1471.000000   \n",
       "9576          11.097410              12.11   677            5070.000000   \n",
       "9577          11.877569               8.50   702            3780.041667   \n",
       "\n",
       "      Revolving_Balance  Revolving_Utilization  Inquiries_Last_6_Months  \\\n",
       "0                 28854                  52.10                        0   \n",
       "1                 17771                  52.10                        2   \n",
       "2                  8224                  52.10                        0   \n",
       "3                 20722                  52.10                        2   \n",
       "4                  1616                  52.10                        1   \n",
       "...                 ...                    ...                      ...   \n",
       "9573               2829                 108.80                        0   \n",
       "9574               3127                 104.20                        0   \n",
       "9575               5111                 104.30                        4   \n",
       "9576               5319                 106.40                        0   \n",
       "9577             172842                  69.14                        2   \n",
       "\n",
       "      Delinquencies_in_2_Years  Public_Records  Not_Fully_Paid  \\\n",
       "0                            0               0               0   \n",
       "1                            0               0               1   \n",
       "2                            0               0               0   \n",
       "3                            0               0               0   \n",
       "4                            0               0               0   \n",
       "...                        ...             ...             ...   \n",
       "9573                         0               0               0   \n",
       "9574                         0               0               0   \n",
       "9575                         0               0               0   \n",
       "9576                         0               0               0   \n",
       "9577                         1               0               0   \n",
       "\n",
       "      Interest_Rate_Bin  Installment_Interact  Revolving_Utilization_Binned  \n",
       "0                     1             98.579990                             1  \n",
       "1                     1             48.139641                             1  \n",
       "2                     1             23.124112                             1  \n",
       "3                     1             20.110746                             1  \n",
       "4                     1              7.886637                             1  \n",
       "...                 ...                   ...                           ...  \n",
       "9573                  1             13.876844                             2  \n",
       "9574                  0             10.838078                             2  \n",
       "9575                  1             21.196714                             2  \n",
       "9576                  1             30.537780                             2  \n",
       "9577                  1             20.967702                             1  \n",
       "\n",
       "[9578 rows x 17 columns]"
      ]
     },
     "execution_count": 3,
     "metadata": {},
     "output_type": "execute_result"
    }
   ],
   "source": [
    "df"
   ]
  },
  {
   "cell_type": "markdown",
   "id": "2f6d19d5",
   "metadata": {},
   "source": [
    "# Model Building"
   ]
  },
  {
   "cell_type": "code",
   "execution_count": 8,
   "id": "d4748def",
   "metadata": {},
   "outputs": [],
   "source": [
    "df1 = pd.get_dummies(data = df)"
   ]
  },
  {
   "cell_type": "code",
   "execution_count": 106,
   "id": "c22ff226",
   "metadata": {},
   "outputs": [
    {
     "data": {
      "image/png": "[encoded data removed]",
      "text/plain": [
       "<Figure size 500x500 with 1 Axes>"
      ]
     },
     "metadata": {},
     "output_type": "display_data"
    }
   ],
   "source": [
    "import seaborn as sns\n",
    "import matplotlib.pyplot as plt\n",
    "import pandas as pd\n",
    "\n",
    "x = df1.drop([\"Not_Fully_Paid\"], axis=1)\n",
    "y = df1[\"Not_Fully_Paid\"]\n",
    "\n",
    "information_gain = mutual_info_classif(x, y)\n",
    "\n",
    "# Create a DataFrame with feature names and their information gain values\n",
    "gain_df = pd.DataFrame({\"Feature\": x.columns, \"Information Gain\": information_gain})\n",
    "\n",
    "# Sort the DataFrame by information gain values in descending order\n",
    "gain_df_sorted = gain_df.sort_values(by=\"Information Gain\", ascending=False)\n",
    "\n",
    "# Plot the sorted information gain values\n",
    "plt.figure(figsize=(5, 5))\n",
    "sns.barplot(x=\"Information Gain\", y=\"Feature\", data=gain_df_sorted, color='navy')\n",
    "plt.title(\"Information Gain of Features\")\n",
    "plt.xlabel(\"Information Gain\")\n",
    "plt.ylabel(\"Features\")\n",
    "plt.show()\n",
    "\n"
   ]
  },
  {
   "cell_type": "code",
   "execution_count": 107,
   "id": "49eaa211",
   "metadata": {},
   "outputs": [],
   "source": [
    "x_train, x_test, y_train, y_test = train_test_split(x, y, test_size=0.2, random_state=42, stratify=y)"
   ]
  },
  {
   "cell_type": "code",
   "execution_count": 108,
   "id": "d02be014",
   "metadata": {},
   "outputs": [],
   "source": [
    "#models\n",
    "logreg = LogisticRegression()\n",
    "gbc = GradientBoostingClassifier()\n",
    "rcl = RandomForestClassifier()\n",
    "svm = SVC()\n",
    "svr = SVR()\n",
    "xgb = XGBClassifier()\n",
    "\n",
    "#sampling instances\n",
    "sm = SMOTE(random_state=42)\n",
    "adasyn = ADASYN(random_state=42)\n",
    "\n",
    "#Scaling instances\n",
    "scaler = StandardScaler()\n",
    "mm = MinMaxScaler()\n",
    "\n",
    "#cross-validation instances\n",
    "cv = StratifiedKFold(n_splits=10)"
   ]
  },
  {
   "cell_type": "code",
   "execution_count": 14,
   "id": "763f9513",
   "metadata": {},
   "outputs": [],
   "source": []
  },
  {
   "cell_type": "code",
   "execution_count": 15,
   "id": "1e74fe08",
   "metadata": {},
   "outputs": [],
   "source": [
    "# Store the column names\n",
    "column_names = x_train.columns\n",
    "# Fit the scaler on the training data\n",
    "scaler.fit(x_train)\n",
    "# Transform the training and testing data\n",
    "x_train_scaled = pd.DataFrame(scaler.transform(x_train), columns=column_names)\n",
    "x_test_scaled = pd.DataFrame(scaler.transform(x_test), columns=column_names)"
   ]
  },
  {
   "cell_type": "code",
   "execution_count": 16,
   "id": "d49a731b",
   "metadata": {},
   "outputs": [],
   "source": [
    "# Apply ADASYN for data balancing\n",
    "adasyn = ADASYN(random_state=42)\n",
    "x_train_balanced, y_train_balanced = adasyn.fit_resample(x_train_scaled, y_train)"
   ]
  },
  {
   "cell_type": "code",
   "execution_count": 17,
   "id": "84b8d357",
   "metadata": {},
   "outputs": [],
   "source": [
    "param_grid = {'C': [0.1, 1.0, 10.0],\n",
    "              'penalty': ['l1', 'l2'],\n",
    "              'solver': ['liblinear', 'saga']}\n",
    "\n",
    "grid_search = GridSearchCV(logreg, param_grid, scoring='recall')\n",
    "\n",
    "# Fit the grid search on the balanced training data\n",
    "grid_search.fit(x_train_balanced, y_train_balanced)\n",
    "\n",
    "# Retrieve the best estimator from the grid search\n",
    "best_logreg = grid_search.best_estimator_\n",
    "\n",
    "# Make predictions on the testing data\n",
    "y_pred = best_logreg.predict(x_test_scaled)"
   ]
  },
  {
   "cell_type": "code",
   "execution_count": 18,
   "id": "4c6559ee",
   "metadata": {},
   "outputs": [],
   "source": []
  },
  {
   "cell_type": "code",
   "execution_count": 19,
   "id": "5323841e",
   "metadata": {},
   "outputs": [],
   "source": []
  },
  {
   "cell_type": "code",
   "execution_count": 21,
   "id": "cd1616cd",
   "metadata": {},
   "outputs": [
    {
     "name": "stdout",
     "output_type": "stream",
     "text": [
      "Training Data:\n",
      "Accuracy: 0.6148106992618462\n",
      "Recall:\n",
      "              precision    recall  f1-score   support\n",
      "\n",
      "           0       0.62      0.64      0.63      6436\n",
      "           1       0.61      0.59      0.60      6163\n",
      "\n",
      "    accuracy                           0.61     12599\n",
      "   macro avg       0.61      0.61      0.61     12599\n",
      "weighted avg       0.61      0.61      0.61     12599\n",
      "\n",
      "ROC AUC: 0.6692308204286956\n",
      "Testing Data:\n",
      "Accuracy: 0.6075156576200418\n",
      "Recall:\n",
      "              precision    recall  f1-score   support\n",
      "\n",
      "           0       0.89      0.60      0.72      1609\n",
      "           1       0.23      0.62      0.34       307\n",
      "\n",
      "    accuracy                           0.61      1916\n",
      "   macro avg       0.56      0.61      0.53      1916\n",
      "weighted avg       0.79      0.61      0.66      1916\n",
      "\n",
      "ROC AUC: 0.6697303239311446\n"
     ]
    }
   ],
   "source": [
    "# Generate predictions for both training and testing data\n",
    "y_train_pred = best_logreg.predict(x_train_balanced)\n",
    "y_test_pred = best_logreg.predict(x_test_scaled)\n",
    "\n",
    "# Calculate accuracy, recall, and ROC AUC for training data\n",
    "train_accuracy = best_logreg.score(x_train_balanced, y_train_balanced)\n",
    "train_recall = classification_report(y_train_balanced, y_train_pred)\n",
    "train_roc_auc = roc_auc_score(y_train_balanced, best_logreg.predict_proba(x_train_balanced)[:, 1])\n",
    "\n",
    "# Calculate accuracy, recall, and ROC AUC for testing data\n",
    "test_accuracy = best_logreg.score(x_test_scaled, y_test)\n",
    "test_recall = classification_report(y_test, y_test_pred)\n",
    "test_roc_auc = roc_auc_score(y_test, best_logreg.predict_proba(x_test_scaled)[:, 1])\n",
    "\n",
    "# Print the classification reports\n",
    "print(\"Training Data:\")\n",
    "print(\"Accuracy:\", train_accuracy)\n",
    "print(\"Recall:\")\n",
    "print(train_recall)\n",
    "print(\"ROC AUC:\", train_roc_auc)\n",
    "\n",
    "print(\"Testing Data:\")\n",
    "print(\"Accuracy:\", test_accuracy)\n",
    "print(\"Recall:\")\n",
    "print(test_recall)\n",
    "print(\"ROC AUC:\", test_roc_auc)"
   ]
  },
  {
   "cell_type": "markdown",
   "id": "373adde3",
   "metadata": {},
   "source": [
    "# RFE"
   ]
  },
  {
   "cell_type": "code",
   "execution_count": 109,
   "id": "83b56b6d",
   "metadata": {},
   "outputs": [
    {
     "name": "stderr",
     "output_type": "stream",
     "text": [
      "Pipeline Progress: 100%|███████████████████████████████████████████████████████████████| 1.0/1 [00:02<00:00,  2.30s/it]"
     ]
    },
    {
     "name": "stdout",
     "output_type": "stream",
     "text": [
      "Recall score: 0.6384\n"
     ]
    },
    {
     "name": "stderr",
     "output_type": "stream",
     "text": [
      "\n"
     ]
    }
   ],
   "source": [
    "from tqdm import tqdm\n",
    "\n",
    "# Define the pipeline\n",
    "pipeline = make_pipeline(\n",
    "    StandardScaler(),\n",
    "    ADASYN(random_state=42),\n",
    "    RFECV(estimator=LogisticRegression(), cv=StratifiedKFold(n_splits=10), scoring='recall'),\n",
    "    LogisticRegression()\n",
    ")\n",
    "\n",
    "# Fit the pipeline on the training data with a progress bar\n",
    "with tqdm(total=1, desc='Pipeline Progress') as pbar:\n",
    "    pipeline.fit(x_train, y_train)\n",
    "    pbar.update(0.50)  # Update progress bar after each step\n",
    "\n",
    "    # Make predictions on the test set\n",
    "    y_pred = pipeline.predict(x_test)\n",
    "    pbar.update(0.25)\n",
    "\n",
    "    # Calculate the recall score\n",
    "    recall = recall_score(y_test, y_pred)\n",
    "    pbar.update(0.25)\n",
    "\n",
    "# Print the recall score\n",
    "print(\"Recall score: {:.4f}\".format(recall))\n"
   ]
  },
  {
   "cell_type": "code",
   "execution_count": 96,
   "id": "2179ea5d",
   "metadata": {},
   "outputs": [
    {
     "name": "stdout",
     "output_type": "stream",
     "text": [
      "              precision    recall  f1-score   support\n",
      "\n",
      "           0       0.90      0.61      0.72      1609\n",
      "           1       0.24      0.63      0.34       307\n",
      "\n",
      "    accuracy                           0.61      1916\n",
      "   macro avg       0.57      0.62      0.53      1916\n",
      "weighted avg       0.79      0.61      0.66      1916\n",
      "\n"
     ]
    }
   ],
   "source": [
    "classification = classification_report(y_test, y_pred)\n",
    "print(classification)"
   ]
  },
  {
   "cell_type": "code",
   "execution_count": 110,
   "id": "905e8fd3",
   "metadata": {},
   "outputs": [
    {
     "name": "stderr",
     "output_type": "stream",
     "text": [
      "Pipeline Progress: 100%|███████████████████████████████████████████████████████████████| 1.0/1 [00:04<00:00,  4.84s/it]"
     ]
    },
    {
     "name": "stdout",
     "output_type": "stream",
     "text": [
      "Recall score: 0.6189\n"
     ]
    },
    {
     "name": "stderr",
     "output_type": "stream",
     "text": [
      "\n"
     ]
    }
   ],
   "source": [
    "# Split the data into training and testing sets\n",
    "x, y = df1.drop(\"Not_Fully_Paid\", axis=1), df1[\"Not_Fully_Paid\"]\n",
    "x_train, x_test, y_train, y_test = train_test_split(x, y, test_size=0.2, random_state=42, stratify=y)\n",
    "\n",
    "# Define the pipeline\n",
    "pipeline = make_pipeline(\n",
    "    MinMaxScaler(),\n",
    "    ADASYN(random_state=42),\n",
    "    RFECV(estimator=LogisticRegression(), cv=StratifiedKFold(n_splits=10), scoring='recall')\n",
    "    #GridSearchCV(LogisticRegression(), param_grid={'C': [0.1, 1, 10]}, scoring='recall', cv=StratifiedKFold(n_splits=5))\n",
    ")\n",
    "\n",
    "with tqdm(total=1, desc='Pipeline Progress') as pbar:\n",
    "    # Fit the pipeline on the training data\n",
    "    pipeline.fit(x_train, y_train)\n",
    "    pbar.update(0.50)\n",
    "\n",
    "    # Make predictions on the test set\n",
    "    y_pred = pipeline.predict(x_test)\n",
    "    pbar.update(0.25)\n",
    "\n",
    "    # Calculate the recall score\n",
    "    recall = recall_score(y_test, y_pred)\n",
    "    pbar.update(0.25)\n",
    "\n",
    "# Print the recall score\n",
    "print(\"Recall score: {:.4f}\".format(recall))\n"
   ]
  },
  {
   "cell_type": "markdown",
   "id": "2be70976",
   "metadata": {},
   "source": [
    "# Random Forest Classifier"
   ]
  },
  {
   "cell_type": "code",
   "execution_count": 48,
   "id": "ab630aa3",
   "metadata": {},
   "outputs": [
    {
     "name": "stdout",
     "output_type": "stream",
     "text": [
      "Recall score: 0.1433\n"
     ]
    }
   ],
   "source": [
    "# Define the pipeline\n",
    "pipeline = make_pipeline(\n",
    "    MinMaxScaler(),\n",
    "    ADASYN(random_state=42),\n",
    "    RFECV(estimator=RandomForestClassifier(), cv=StratifiedKFold(n_splits=10), scoring='recall'),\n",
    "    RandomForestClassifier()\n",
    ")\n",
    "\n",
    "# Fit the pipeline on the training data\n",
    "pipeline.fit(x_train, y_train)\n",
    "\n",
    "# Make predictions on the test set\n",
    "y_pred = pipeline.predict(x_test)\n",
    "\n",
    "# Calculate the recall score\n",
    "recall = recall_score(y_test, y_pred)\n",
    "\n",
    "# Print the recall score\n",
    "print(\"Recall score: {:.4f}\".format(recall))"
   ]
  },
  {
   "cell_type": "code",
   "execution_count": 111,
   "id": "aad3c568",
   "metadata": {},
   "outputs": [
    {
     "name": "stderr",
     "output_type": "stream",
     "text": [
      "Pipeline Progress: 100%|█████████████████████████████████████████████████████████████| 1.0/1 [18:46<00:00, 1126.77s/it]"
     ]
    },
    {
     "name": "stdout",
     "output_type": "stream",
     "text": [
      "Recall score: 0.4853\n"
     ]
    },
    {
     "name": "stderr",
     "output_type": "stream",
     "text": [
      "\n"
     ]
    }
   ],
   "source": [
    "# Define the pipeline\n",
    "pipeline = make_pipeline(\n",
    "    MinMaxScaler(),\n",
    "    ADASYN(random_state=42),\n",
    "    RandomForestClassifier()\n",
    ")\n",
    "\n",
    "# Define the parameter grid for GridSearchCV\n",
    "param_grid = {\n",
    "    'randomforestclassifier__n_estimators': [100, 200, 300],\n",
    "    'randomforestclassifier__max_depth': [None, 5, 10],\n",
    "    'randomforestclassifier__min_samples_split': [2, 5, 10]\n",
    "}\n",
    "\n",
    "with tqdm(total=1, desc='Pipeline Progress') as pbar:\n",
    "    # Create GridSearchCV instance\n",
    "    grid_search = GridSearchCV(pipeline, param_grid, cv=StratifiedKFold(n_splits=10), scoring='recall')\n",
    "    pbar.update(0.25)\n",
    "\n",
    "    # Fit the pipeline on the training data using GridSearchCV\n",
    "    grid_search.fit(x_train, y_train)\n",
    "    pbar.update(0.25)\n",
    "\n",
    "    # Get the best estimator from the grid search\n",
    "    best_estimator = grid_search.best_estimator_\n",
    "    pbar.update(0.25)\n",
    "\n",
    "    # Make predictions on the test set using the best estimator\n",
    "    y_pred = best_estimator.predict(x_test)\n",
    "    pbar.update(0.25)\n",
    "\n",
    "    # Calculate the recall score\n",
    "    recall = recall_score(y_test, y_pred)\n",
    "\n",
    "# Print the recall score\n",
    "print(\"Recall score: {:.4f}\".format(recall))\n"
   ]
  },
  {
   "cell_type": "markdown",
   "id": "8b421a6f",
   "metadata": {},
   "source": [
    "# Gradient boost classifier"
   ]
  },
  {
   "cell_type": "code",
   "execution_count": 49,
   "id": "9bc82d3b",
   "metadata": {},
   "outputs": [
    {
     "name": "stdout",
     "output_type": "stream",
     "text": [
      "Recall score: 0.1140\n"
     ]
    }
   ],
   "source": [
    "\n",
    "# Define the pipeline\n",
    "pipeline = make_pipeline(\n",
    "    MinMaxScaler(),\n",
    "    ADASYN(random_state=42),\n",
    "    RFECV(estimator=GradientBoostingClassifier(), cv=StratifiedKFold(n_splits=10), scoring='recall'),\n",
    "    GradientBoostingClassifier()\n",
    ")\n",
    "\n",
    "# Fit the pipeline on the training data\n",
    "pipeline.fit(x_train, y_train)\n",
    "\n",
    "# Make predictions on the test set\n",
    "y_pred = pipeline.predict(x_test)\n",
    "\n",
    "# Calculate the recall score\n",
    "recall = recall_score(y_test, y_pred)\n",
    "\n",
    "# Print the recall score\n",
    "print(\"Recall score: {:.4f}\".format(recall))"
   ]
  },
  {
   "cell_type": "code",
   "execution_count": 56,
   "id": "cafedbd1",
   "metadata": {},
   "outputs": [
    {
     "name": "stderr",
     "output_type": "stream",
     "text": [
      "\r",
      "Pipeline Progress:   0%|                                                                         | 0/1 [00:00<?, ?it/s]"
     ]
    },
    {
     "name": "stdout",
     "output_type": "stream",
     "text": [
      "Fitting 10 folds for each of 18 candidates, totalling 180 fits\n"
     ]
    },
    {
     "name": "stderr",
     "output_type": "stream",
     "text": [
      "Pipeline Progress: 100%|█████████████████████████████████████████████████████████████| 1.0/1 [20:57<00:00, 1257.10s/it]"
     ]
    },
    {
     "name": "stdout",
     "output_type": "stream",
     "text": [
      "Best Recall score: 0.3377\n",
      "Recall score on test set: 0.3844\n"
     ]
    },
    {
     "name": "stderr",
     "output_type": "stream",
     "text": [
      "\n"
     ]
    }
   ],
   "source": [
    "# Define the parameter grid for GridSearchCV\n",
    "param_grid = {\n",
    "    'gradientboostingclassifier__learning_rate': [0.1, 0.05],\n",
    "    'gradientboostingclassifier__n_estimators': [50, 100, 200],\n",
    "    'gradientboostingclassifier__max_depth': [3, 4, 5]\n",
    "}\n",
    "\n",
    "# Define the pipeline\n",
    "pipeline = make_pipeline(\n",
    "    StandardScaler(),\n",
    "    ADASYN(random_state=42),\n",
    "    GradientBoostingClassifier()\n",
    ")\n",
    "\n",
    "with tqdm(total=1, desc='Pipeline Progress') as pbar:\n",
    "    # Define the GridSearchCV with the pipeline and parameter grid\n",
    "    grid_search = GridSearchCV(\n",
    "        estimator=pipeline,\n",
    "        param_grid=param_grid,\n",
    "        scoring=make_scorer(recall_score),\n",
    "        cv=StratifiedKFold(n_splits=10),\n",
    "        verbose=1\n",
    "    )\n",
    "    pbar.update(0.25)\n",
    "\n",
    "    # Fit the GridSearchCV on the training data\n",
    "    grid_search.fit(x_train, y_train)\n",
    "    pbar.update(0.25)\n",
    "\n",
    "    # Make predictions on the test set using the best estimator from GridSearchCV\n",
    "    y_pred = grid_search.best_estimator_.predict(x_test)\n",
    "    pbar.update(0.25)\n",
    "\n",
    "    # Calculate the recall score\n",
    "    recall = recall_score(y_test, y_pred)\n",
    "    pbar.update(0.25)\n",
    "\n",
    "    # Print the recall score\n",
    "    print(\"Best Recall score: {:.4f}\".format(grid_search.best_score_))\n",
    "    print(\"Recall score on test set: {:.4f}\".format(recall))"
   ]
  },
  {
   "cell_type": "code",
   "execution_count": 57,
   "id": "6ad61532",
   "metadata": {},
   "outputs": [
    {
     "name": "stderr",
     "output_type": "stream",
     "text": [
      "\r",
      "Pipeline Progress:   0%|                                                                         | 0/1 [00:00<?, ?it/s]"
     ]
    },
    {
     "name": "stdout",
     "output_type": "stream",
     "text": [
      "Fitting 10 folds for each of 6 candidates, totalling 60 fits\n"
     ]
    },
    {
     "name": "stderr",
     "output_type": "stream",
     "text": [
      "Pipeline Progress: 100%|██████████████████████████████████████████████████████████████| 1.0/1 [05:19<00:00, 319.50s/it]"
     ]
    },
    {
     "name": "stdout",
     "output_type": "stream",
     "text": [
      "Best Recall score: 0.5538\n",
      "Recall score on test set: 0.5537\n"
     ]
    },
    {
     "name": "stderr",
     "output_type": "stream",
     "text": [
      "\n"
     ]
    }
   ],
   "source": [
    "# Define the parameter grid for GridSearchCV\n",
    "param_grid = {\n",
    "    'svc__C': [0.1, 1, 10],\n",
    "    'svc__kernel': ['linear', 'rbf']\n",
    "}\n",
    "\n",
    "# Define the pipeline\n",
    "pipeline = make_pipeline(\n",
    "    MinMaxScaler(),\n",
    "    ADASYN(random_state=42),\n",
    "    SVC()\n",
    ")\n",
    "\n",
    "with tqdm(total=1, desc='Pipeline Progress') as pbar:\n",
    "    # Define the GridSearchCV with the pipeline and parameter grid\n",
    "    grid_search = GridSearchCV(\n",
    "        estimator=pipeline,\n",
    "        param_grid=param_grid,\n",
    "        scoring=make_scorer(recall_score),\n",
    "        cv=StratifiedKFold(n_splits=10),\n",
    "        verbose=1\n",
    "    )\n",
    "    pbar.update(0.25)\n",
    "\n",
    "    # Fit the GridSearchCV on the training data\n",
    "    grid_search.fit(x_train, y_train)\n",
    "    pbar.update(0.25)\n",
    "\n",
    "    # Make predictions on the test set using the best estimator from GridSearchCV\n",
    "    y_pred = grid_search.best_estimator_.predict(x_test)\n",
    "    pbar.update(0.25)\n",
    "\n",
    "    # Calculate the recall score\n",
    "    recall = recall_score(y_test, y_pred)\n",
    "    pbar.update(0.25)\n",
    "\n",
    "# Print the recall score\n",
    "print(\"Best Recall score: {:.4f}\".format(grid_search.best_score_))\n",
    "print(\"Recall score on test set: {:.4f}\".format(recall))"
   ]
  },
  {
   "cell_type": "code",
   "execution_count": null,
   "id": "7fcb4074",
   "metadata": {},
   "outputs": [],
   "source": []
  },
  {
   "cell_type": "code",
   "execution_count": null,
   "id": "914da394",
   "metadata": {},
   "outputs": [],
   "source": []
  },
  {
   "cell_type": "code",
   "execution_count": 64,
   "id": "0fa81a3b",
   "metadata": {},
   "outputs": [
    {
     "name": "stdout",
     "output_type": "stream",
     "text": [
      "Fitting 10 folds for each of 18 candidates, totalling 180 fits\n",
      "Best Recall score: 0.7697\n",
      "Recall score on test set: 0.0977\n"
     ]
    }
   ],
   "source": [
    "# Define the parameter grid for GridSearchCV\n",
    "param_grid = {\n",
    "    'learning_rate': [0.1, 0.05],\n",
    "    'n_estimators': [50, 100, 200],\n",
    "    'max_depth': [3, 4, 5]\n",
    "}\n",
    "\n",
    "# Create an XGBoost classifier\n",
    "xgb = XGBClassifier()\n",
    "\n",
    "# Preprocess the training data\n",
    "scaler = MinMaxScaler()\n",
    "x_train_scaled = scaler.fit_transform(x_train)\n",
    "\n",
    "# Apply ADASYN oversampling\n",
    "adasyn = ADASYN(random_state=42)\n",
    "x_train_oversampled, y_train_oversampled = adasyn.fit_resample(x_train_scaled, y_train)\n",
    "\n",
    "# Define the GridSearchCV with the classifier and parameter grid\n",
    "grid_search = GridSearchCV(\n",
    "    estimator=xgb,\n",
    "    param_grid=param_grid,\n",
    "    scoring=make_scorer(recall_score),\n",
    "    cv=StratifiedKFold(n_splits=10),\n",
    "    verbose=1\n",
    ")\n",
    "\n",
    "# Fit the GridSearchCV on the training data\n",
    "grid_search.fit(x_train_oversampled, y_train_oversampled)\n",
    "\n",
    "# Make predictions on the test set using the best estimator from GridSearchCV\n",
    "x_test_scaled = scaler.transform(x_test)\n",
    "y_pred = grid_search.best_estimator_.predict(x_test_scaled)\n",
    "\n",
    "# Calculate the recall score\n",
    "recall = recall_score(y_test, y_pred)\n",
    "\n",
    "# Print the recall score\n",
    "print(\"Best Recall score: {:.4f}\".format(grid_search.best_score_))\n",
    "print(\"Recall score on test set: {:.4f}\".format(recall))\n"
   ]
  },
  {
   "cell_type": "code",
   "execution_count": null,
   "id": "982f009c",
   "metadata": {},
   "outputs": [],
   "source": []
  },
  {
   "cell_type": "code",
   "execution_count": 70,
   "id": "547eeaaf",
   "metadata": {},
   "outputs": [
    {
     "data": {
      "text/plain": [
       "0    6436\n",
       "1    6133\n",
       "Name: Not_Fully_Paid, dtype: int64"
      ]
     },
     "execution_count": 70,
     "metadata": {},
     "output_type": "execute_result"
    }
   ],
   "source": [
    "y_train_oversampled.value_counts()"
   ]
  },
  {
   "cell_type": "code",
   "execution_count": null,
   "id": "b29104f6",
   "metadata": {},
   "outputs": [],
   "source": []
  },
  {
   "cell_type": "code",
   "execution_count": 92,
   "id": "35a4e0a3",
   "metadata": {},
   "outputs": [
    {
     "name": "stderr",
     "output_type": "stream",
     "text": [
      "Pipeline Progress: 100%|██████████████████████████████████████████████████████████████| 1.0/1 [01:44<00:00, 104.26s/it]"
     ]
    },
    {
     "name": "stdout",
     "output_type": "stream",
     "text": [
      "Recall score: 0.0684\n"
     ]
    },
    {
     "name": "stderr",
     "output_type": "stream",
     "text": [
      "\n"
     ]
    }
   ],
   "source": [
    "# Define the pipeline\n",
    "pipeline = make_pipeline(\n",
    "    StandardScaler(),\n",
    "    ADASYN(random_state=42),\n",
    "    RFECV(estimator=XGBClassifier(), cv=StratifiedKFold(n_splits=10), scoring='recall'),\n",
    "    XGBClassifier()\n",
    ")\n",
    "\n",
    "# Fit the pipeline on the training data with a progress bar\n",
    "with tqdm(total=1, desc='Pipeline Progress') as pbar:\n",
    "    pipeline.fit(x_train, y_train)\n",
    "    pbar.update(0.50)  # Update progress bar after each step\n",
    "\n",
    "    # Make predictions on the test set\n",
    "    y_pred = pipeline.predict(x_test)\n",
    "    pbar.update(0.25)\n",
    "\n",
    "    # Calculate the recall score\n",
    "    recall = recall_score(y_test, y_pred)\n",
    "    pbar.update(0.25)\n",
    "\n",
    "# Print the recall score\n",
    "print(\"Recall score: {:.4f}\".format(recall))"
   ]
  },
  {
   "cell_type": "code",
   "execution_count": null,
   "id": "7057a58e",
   "metadata": {},
   "outputs": [],
   "source": []
  },
  {
   "cell_type": "code",
   "execution_count": 100,
   "id": "36dfb64d",
   "metadata": {},
   "outputs": [],
   "source": [
    "def value_cnt_norm_cal(df, feature, target):\n",
    "    ftr_value_cnt = df[feature].value_counts()\n",
    "    ftr_value_cnt_norm = df[feature].value_counts(normalize=True) * 100\n",
    "    target_prob = df.groupby(feature)[target].mean() * 100  # Calculate the conditional probability\n",
    "    ftr_value_cnt_concat = pd.concat([ftr_value_cnt, ftr_value_cnt_norm, target_prob], axis=1)\n",
    "    ftr_value_cnt_concat.columns = ['Count', 'Frequency (%)', 'Target Probability (%)']\n",
    "    return ftr_value_cnt_concat\n"
   ]
  },
  {
   "cell_type": "code",
   "execution_count": 102,
   "id": "9320005d",
   "metadata": {},
   "outputs": [
    {
     "data": {
      "text/html": [
       "<div>\n",
       "<style scoped>\n",
       "    .dataframe tbody tr th:only-of-type {\n",
       "        vertical-align: middle;\n",
       "    }\n",
       "\n",
       "    .dataframe tbody tr th {\n",
       "        vertical-align: top;\n",
       "    }\n",
       "\n",
       "    .dataframe thead th {\n",
       "        text-align: right;\n",
       "    }\n",
       "</style>\n",
       "<table border=\"1\" class=\"dataframe\">\n",
       "  <thead>\n",
       "    <tr style=\"text-align: right;\">\n",
       "      <th></th>\n",
       "      <th>Count</th>\n",
       "      <th>Frequency (%)</th>\n",
       "      <th>Target Probability (%)</th>\n",
       "    </tr>\n",
       "  </thead>\n",
       "  <tbody>\n",
       "    <tr>\n",
       "      <th>debt_consolidation</th>\n",
       "      <td>3957</td>\n",
       "      <td>41.313427</td>\n",
       "      <td>15.238817</td>\n",
       "    </tr>\n",
       "    <tr>\n",
       "      <th>all_other</th>\n",
       "      <td>2331</td>\n",
       "      <td>24.337022</td>\n",
       "      <td>16.602317</td>\n",
       "    </tr>\n",
       "    <tr>\n",
       "      <th>credit_card</th>\n",
       "      <td>1262</td>\n",
       "      <td>13.176028</td>\n",
       "      <td>11.568938</td>\n",
       "    </tr>\n",
       "    <tr>\n",
       "      <th>home_improvement</th>\n",
       "      <td>629</td>\n",
       "      <td>6.567133</td>\n",
       "      <td>17.011129</td>\n",
       "    </tr>\n",
       "    <tr>\n",
       "      <th>small_business</th>\n",
       "      <td>619</td>\n",
       "      <td>6.462727</td>\n",
       "      <td>27.786753</td>\n",
       "    </tr>\n",
       "    <tr>\n",
       "      <th>major_purchase</th>\n",
       "      <td>437</td>\n",
       "      <td>4.562539</td>\n",
       "      <td>11.212815</td>\n",
       "    </tr>\n",
       "    <tr>\n",
       "      <th>educational</th>\n",
       "      <td>343</td>\n",
       "      <td>3.581123</td>\n",
       "      <td>20.116618</td>\n",
       "    </tr>\n",
       "  </tbody>\n",
       "</table>\n",
       "</div>"
      ],
      "text/plain": [
       "                    Count  Frequency (%)  Target Probability (%)\n",
       "debt_consolidation   3957      41.313427               15.238817\n",
       "all_other            2331      24.337022               16.602317\n",
       "credit_card          1262      13.176028               11.568938\n",
       "home_improvement      629       6.567133               17.011129\n",
       "small_business        619       6.462727               27.786753\n",
       "major_purchase        437       4.562539               11.212815\n",
       "educational           343       3.581123               20.116618"
      ]
     },
     "execution_count": 102,
     "metadata": {},
     "output_type": "execute_result"
    }
   ],
   "source": [
    "value_cnt_norm_cal(df,\"Purpose\",\"Not_Fully_Paid\")"
   ]
  },
  {
   "cell_type": "code",
   "execution_count": 103,
   "id": "a0524577",
   "metadata": {},
   "outputs": [],
   "source": [
    "# Calculate conditional probabilities\n",
    "probabilities = value_cnt_norm_cal(df, \"Purpose\",\"Not_Fully_Paid\")['Target Probability (%)']\n",
    "\n",
    "# Replace categorical values with probabilities\n",
    "df[\"Purpose\"] = df[\"Purpose\"].map(probabilities)\n"
   ]
  },
  {
   "cell_type": "code",
   "execution_count": 105,
   "id": "ae346fce",
   "metadata": {},
   "outputs": [],
   "source": [
    "df1 = df"
   ]
  },
  {
   "cell_type": "code",
   "execution_count": null,
   "id": "e0d12097",
   "metadata": {},
   "outputs": [],
   "source": []
  }
 ],
 "metadata": {
  "kernelspec": {
   "display_name": "Python 3 (ipykernel)",
   "language": "python",
   "name": "python3"
  },
  "language_info": {
   "codemirror_mode": {
    "name": "ipython",
    "version": 3
   },
   "file_extension": ".py",
   "mimetype": "text/x-python",
   "name": "python",
   "nbconvert_exporter": "python",
   "pygments_lexer": "ipython3",
   "version": "3.10.6"
  }
 },
 "nbformat": 4,
 "nbformat_minor": 5
}
